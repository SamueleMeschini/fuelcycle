{
 "cells": [
  {
   "cell_type": "code",
   "execution_count": 30,
   "metadata": {},
   "outputs": [],
   "source": [
    "###IMPORT MODULES\n",
    "import numpy as np \n",
    "from tools.component_tools import Component\n",
    "from tools.component_tools import Fluid\n",
    "from tools.component_tools import Membrane\n",
    "from tools.component_tools import GLC_Gas\n",
    "from tools.component_tools import GLC \n",
    "from tools.materials import Flibe \n",
    "import tools.correlations as corr\n",
    "import tools.materials as materials\n",
    "import matplotlib.pyplot as plt\n",
    "from scipy.interpolate import griddata\n",
    "import matplotlib.colors as colors\n",
    "from matplotlib.colors import LogNorm\n",
    "from scipy.optimize import fsolve\n",
    "import matplotlib.lines as mlines\n",
    "from tools.component_tools import BreedingBlanket"
   ]
  },
  {
   "cell_type": "code",
   "execution_count": 31,
   "metadata": {},
   "outputs": [],
   "source": [
    "##Define sweep vectors\n",
    "d_hyd_v=np.logspace(np.log10(20.5E-3),np.log10(10E-2),100)\n",
    "T_vec=np.linspace(800,1000,30)\n",
    "U0_vec=np.linspace(1,5,30)\n",
    "str_v_vec=['T','U0','Solubility','c_in',\"D\",\"thick\",\"K_S\",\"k_d\",\"k_r\"]\n",
    "c_in_vec=np.logspace(-5,-1,30)\n",
    "D_vec=np.logspace(-10,-8,30)\n",
    "thick_vec=np.logspace(-3,-1,30)\n",
    "K_S_vec=np.logspace(-4,-2,30)\n",
    "k_d_vec=np.logspace(2,6,30)\n",
    "k_r_vec=np.logspace(2,6,30)\n",
    "solubility_vec=np.logspace(-5,-2,30)\n",
    "v_vec=np.array([T_vec, U0_vec, solubility_vec, c_in_vec, D_vec, thick_vec, K_S_vec])\n",
    "eff_v_vec=np.array([])\n",
    "fluid_v_bool=np.array([True , True , True ,False,False,False,False,False,False])\n",
    "solid_v_bool=np.array([False, False, False,False,True ,True ,True ,True ,True ])\n"
   ]
  },
  {
   "cell_type": "code",
   "execution_count": 32,
   "metadata": {},
   "outputs": [],
   "source": [
    "#Define other HX constraints\n",
    "\n",
    "T_hot_prim=900\n",
    "T_hot_sec=838\n",
    "T_cold_prim=800\n",
    "T_cold_sec=581\n",
    "T_sec_ave=(T_hot_sec+T_cold_sec)/2\n",
    "# m_in_sec=3025\n",
    "# m_in_prim=4950\n",
    "rho_sec=2263.628-0.636*T_sec_ave\n",
    "mu_sec=0.075439-2.77E-4*(T_sec_ave-273.15)+3.49E-7*(T_sec_ave-273.15)**2-1.474E-10*(T_sec_ave-273.15)**3\n",
    "k_sec=0.45\n",
    "cp_sec=1396.044+0.172*(T_sec_ave)\n",
    "N_HX=3\n",
    "Q=1E9\n",
    "m_in_sec=Q/(cp_sec*(T_hot_sec-T_cold_sec))\n"
   ]
  },
  {
   "cell_type": "code",
   "execution_count": 33,
   "metadata": {},
   "outputs": [
    {
     "name": "stderr",
     "output_type": "stream",
     "text": [
      "c:\\Users\\Gabriele\\Desktop\\fuel-cycle-python-1\\tools\\component_tools.py:214: RuntimeWarning: invalid value encountered in scalar power\n",
      "  * (c / self.fluid.Solubility) ** 0.5\n"
     ]
    },
    {
     "ename": "KeyboardInterrupt",
     "evalue": "",
     "output_type": "error",
     "traceback": [
      "\u001b[1;31m---------------------------------------------------------------------------\u001b[0m",
      "\u001b[1;31mKeyboardInterrupt\u001b[0m                         Traceback (most recent call last)",
      "Cell \u001b[1;32mIn[33], line 57\u001b[0m\n\u001b[0;32m     55\u001b[0m d_hyd_v_res\u001b[38;5;241m=\u001b[39mnp\u001b[38;5;241m.\u001b[39mappend(d_hyd_v_res, d_hyd)\n\u001b[0;32m     56\u001b[0m var_vec\u001b[38;5;241m=\u001b[39mnp\u001b[38;5;241m.\u001b[39mappend(var_vec, var)\n\u001b[1;32m---> 57\u001b[0m res_vec\u001b[38;5;241m=\u001b[39m\u001b[43mnp\u001b[49m\u001b[38;5;241;43m.\u001b[39;49m\u001b[43mappend\u001b[49m\u001b[43m(\u001b[49m\u001b[43mres_vec\u001b[49m\u001b[43m,\u001b[49m\u001b[43m \u001b[49m\u001b[43mPAV\u001b[49m\u001b[38;5;241;43m.\u001b[39;49m\u001b[43meff\u001b[49m\u001b[43m)\u001b[49m\n\u001b[0;32m     58\u001b[0m L_vec\u001b[38;5;241m=\u001b[39mnp\u001b[38;5;241m.\u001b[39mappend(L_vec, L)\n\u001b[0;32m     59\u001b[0m n_pipes_v\u001b[38;5;241m=\u001b[39mnp\u001b[38;5;241m.\u001b[39mappend(n_pipes_v, n_pipes)\n",
      "File \u001b[1;32mc:\\Users\\Gabriele\\AppData\\Local\\Programs\\Python\\Python311\\Lib\\site-packages\\numpy\\lib\\function_base.py:5617\u001b[0m, in \u001b[0;36mappend\u001b[1;34m(arr, values, axis)\u001b[0m\n\u001b[0;32m   5615\u001b[0m     values \u001b[38;5;241m=\u001b[39m ravel(values)\n\u001b[0;32m   5616\u001b[0m     axis \u001b[38;5;241m=\u001b[39m arr\u001b[38;5;241m.\u001b[39mndim\u001b[38;5;241m-\u001b[39m\u001b[38;5;241m1\u001b[39m\n\u001b[1;32m-> 5617\u001b[0m \u001b[38;5;28;01mreturn\u001b[39;00m \u001b[43mconcatenate\u001b[49m\u001b[43m(\u001b[49m\u001b[43m(\u001b[49m\u001b[43marr\u001b[49m\u001b[43m,\u001b[49m\u001b[43m \u001b[49m\u001b[43mvalues\u001b[49m\u001b[43m)\u001b[49m\u001b[43m,\u001b[49m\u001b[43m \u001b[49m\u001b[43maxis\u001b[49m\u001b[38;5;241;43m=\u001b[39;49m\u001b[43maxis\u001b[49m\u001b[43m)\u001b[49m\n",
      "\u001b[1;31mKeyboardInterrupt\u001b[0m: "
     ]
    }
   ],
   "source": [
    "for j,vec in enumerate(v_vec):\n",
    "        eff_v=np.array([])\n",
    "        var_str=str_v_vec[j]\n",
    "        T=800\n",
    "        res_vec=np.array([])\n",
    "        d_hyd_v_res=np.array([])\n",
    "        var_vec=np.array([])\n",
    "        L_vec=np.array([])\n",
    "        n_pipes_v=np.array([])\n",
    "        for var in vec:\n",
    "                for i,d_hyd in enumerate(d_hyd_v):\n",
    "                        if str_v_vec[j]=='T':\n",
    "                                T=var\n",
    "                                #print(T)\n",
    "                        \n",
    "                        \n",
    "                        mat=materials.Flibe(T)\n",
    "                        c0=0\n",
    "                        flibe=Fluid(T=T, Solubility=mat.Solubility, MS=True,D=mat.D, d_Hyd=d_hyd ,mu=mat.mu,rho=mat.rho,U0=1, c0=c0,k=mat.k,\n",
    "                         cp=mat.cp)\n",
    "                        BB=BreedingBlanket(Q=Q,TBR=1.08,T_out=T_hot_prim,T_in=T_cold_prim,fluid=flibe )\n",
    "                        BB.get_cout()\n",
    "                        c0=BB.c_out\n",
    "                        Steel = Membrane( T=T,\n",
    "                                D=7E-10,\n",
    "                                thick=2.1E-3,\n",
    "                                K_S=4.41E-3,\n",
    "                                k_d=1E6,\n",
    "                                k_r=1E6,k=21)\n",
    "                        PAV = Component(c_in=c0, eff=0.5, fluid=flibe, membrane=Steel)\n",
    "                        flibe.update_attribute('c0',c0)\n",
    "                        flibe.update_attribute('p_H2',c0/flibe.Solubility)\n",
    "                        if fluid_v_bool[j]==True:\n",
    "                                PAV.fluid.update_attribute(var_str,var)\n",
    "                        elif solid_v_bool[j]==True:\n",
    "                                PAV.membrane.update_attribute(var_str,var)\n",
    "                        else:\n",
    "                                PAV.update_attribute(var_str,var)\n",
    "                        n_pipes=BB.m_coolant/(PAV.fluid.rho*PAV.fluid.U0*PAV.fluid.d_Hyd**2/4)\n",
    "                        Q_HX=Q/n_pipes/N_HX\n",
    "                        HX=Component(c_in=PAV.outlet_c_comp(), eff=0.08, fluid=flibe)\n",
    "                        PAV.get_adimensionals()\n",
    "                        d_h_sec=2.5E-2 # from HX forecasts\n",
    "                        V_sec=m_in_sec/(rho_sec*d_h_sec**2*np.pi/4)/N_HX/n_pipes\n",
    "                        Re_sec=corr.Re(rho=rho_sec,u=V_sec,mu=mu_sec,L=d_h_sec)\n",
    "                        Pr_sec=corr.Pr(c_p=cp_sec,mu=mu_sec,k=k_sec)\n",
    "                        h_coeff_sec=corr.get_h_from_Nu(corr.Nu_DittusBoelter(Re_sec, Pr_sec), k_sec,d_h_sec)\n",
    "                        R_sec=1/h_coeff_sec\n",
    "                        #U = PAV.get_global_HX_coeff(0)\n",
    "                        U=PAV.get_global_HX_coeff(R_sec)\n",
    "                        L= corr.get_length_HX(corr.get_deltaTML(T_hot_prim, T_cold_prim, T_cold_sec, T_hot_sec), PAV.fluid.d_Hyd, PAV.U, Q_HX)\n",
    "                        PAV.get_efficiency(L,plotvar=False)\n",
    "                        out_flux=(PAV.c_in*(1-PAV.eff)*PAV.fluid.U0*PAV.fluid.d_Hyd**2/4)\n",
    "                        eff_v=np.append(eff_v, PAV.eff)\n",
    "                        d_hyd_v_res=np.append(d_hyd_v_res, d_hyd)\n",
    "                        var_vec=np.append(var_vec, var)\n",
    "                        res_vec=np.append(res_vec, PAV.eff)\n",
    "                        L_vec=np.append(L_vec, L)\n",
    "                        n_pipes_v=np.append(n_pipes_v, n_pipes)\n",
    "                eff_v_vec=np.append(eff_v_vec, eff_v)\n",
    "        plt.figure(j)\n",
    "        plt.title(str_v_vec[j])\n",
    "        \n",
    "        x = np.logspace(np.log10(min(d_hyd_v_res[:])), np.log10(max(d_hyd_v_res[:])), num=100)\n",
    "        y = np.logspace(np.log10(min(var_vec[:])), np.log10(max(var_vec[:])), num=100)\n",
    "        X, Y = np.meshgrid(x, y)\n",
    "        plt.yscale('log')\n",
    "        plt.xscale('log')\n",
    "        Z = griddata((d_hyd_v_res, var_vec), (1-res_vec)*100, (X, Y), method='cubic')\n",
    "        #plt.contour(X, Y, Z, levels=[0.95,0.99,0.9999], colors=['k','r','b'])\n",
    "        contour1=plt.contour(X, Y, Z, levels=[1E-4,1E-3,1E-2,1E-1,1,10],norm=LogNorm(), cmap='rainbow')\n",
    "        plt.clabel(contour1, inline=True, fontsize=8)\n",
    "        scatter=plt.scatter(X,Y, c=Z ,norm=colors.LogNorm()) #,norm=colors.LogNorm()\n",
    "        ZL=griddata((d_hyd_v_res, var_vec), L_vec, (X, Y), method='cubic')\n",
    "        Zn_pipes=griddata((d_hyd_v_res, var_vec), n_pipes_v, (X, Y), method='cubic')\n",
    "        contour2=plt.contour(X, Y, ZL, levels=range(1,30,1),colors=['m'],linestyles='dotted')\n",
    "        plt.clabel(contour2, inline=True, fontsize=8)\n",
    "        contour3=plt.contour(X, Y, Zn_pipes, levels=[100,200,300,500,600,700,800,900,1000],colors=['r'],linestyles='dashed')\n",
    "        plt.clabel(contour3, inline=True, fontsize=8)\n",
    "        #plt.colorbar(contour1)  # Show color scale for contour1\n",
    "        plt.colorbar(scatter)  # Show color scale for scatter\n",
    "        line1 = mlines.Line2D([], [], color='k', markersize=15, label='Concentration Losses [%]')\n",
    "        line2 = mlines.Line2D([], [], color='m', markersize=15, label='Length HX(m)')\n",
    "        line3 = mlines.Line2D([], [], color='r', markersize=15, label='number of pipes')\n",
    "        plt.legend(handles=[ line1,line2, line3], loc='upper right')\n",
    "\n",
    "        # plt.colorbar(contour2)  # Show color scale for contour2\n",
    "        # plt.colorbar(contour3) # Show color scale\n",
    "        plt.show()"
   ]
  },
  {
   "cell_type": "code",
   "execution_count": null,
   "metadata": {},
   "outputs": [
    {
     "name": "stdout",
     "output_type": "stream",
     "text": [
      "cout 0.000312607334568247\n",
      "m_in 4191.1148365465215\n",
      "n_pipes 828.8568845142927\n",
      "L 12.410749965851414\n",
      "U None\n",
      "cp_sec 1518.078\n",
      "rho_sec 1812.3860000000002\n",
      "mu_sec 0.008773881195958223\n",
      "k_sec 0.45\n",
      "T_sec_ave 436.35\n"
     ]
    }
   ],
   "source": [
    "print(\"cout\",BB.c_out)\n",
    "print(\"m_in\",BB.m_coolant)\n",
    "print(\"n_pipes\",n_pipes)\n",
    "print(\"L\",L)\n",
    "print(\"U\",U)\n",
    "print(\"cp_sec\",cp_sec)\n",
    "print(\"rho_sec\",rho_sec)\n",
    "print(\"mu_sec\",mu_sec)\n",
    "print(\"k_sec\",k_sec)\n",
    "print(\"T_sec_ave\",T_sec_ave-273.15)"
   ]
  },
  {
   "cell_type": "markdown",
   "metadata": {},
   "source": [
    "Jupyter notebook to test and run features of components in a FPP"
   ]
  }
 ],
 "metadata": {
  "kernelspec": {
   "display_name": "Python 3",
   "language": "python",
   "name": "python3"
  },
  "language_info": {
   "codemirror_mode": {
    "name": "ipython",
    "version": 3
   },
   "file_extension": ".py",
   "mimetype": "text/x-python",
   "name": "python",
   "nbconvert_exporter": "python",
   "pygments_lexer": "ipython3",
   "version": "3.11.4"
  }
 },
 "nbformat": 4,
 "nbformat_minor": 2
}
