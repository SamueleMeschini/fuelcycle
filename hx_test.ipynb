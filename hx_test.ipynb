{
 "cells": [
  {
   "cell_type": "code",
   "execution_count": 1,
   "metadata": {},
   "outputs": [
    {
     "name": "stdout",
     "output_type": "stream",
     "text": [
      "1.7707008516160339\n"
     ]
    }
   ],
   "source": [
    "import numpy as np\n",
    "from tools.component_tools import Component\n",
    "from tools.component_tools import Fluid\n",
    "from tools.component_tools import Membrane\n",
    "from tools.component_tools import GLC_Gas\n",
    "from tools.component_tools import GLC\n",
    "from tools.materials import Flibe\n",
    "import tools.materials as materials\n",
    "import matplotlib.pyplot as plt\n",
    "from scipy.interpolate import griddata\n",
    "import matplotlib.colors as colors\n",
    "from matplotlib.colors import LogNorm\n",
    "from scipy.optimize import fsolve\n",
    "import tools.correlations as corr\n",
    "\n",
    "# Define known parameters\n",
    "T_in_hot = 150  # Hot fluid inlet temperature in Celsius\n",
    "T_out_cold = 30  # Cold fluid outlet temperature in Celsius\n",
    "m_dot_cold = 2  # Mass flow rate of cold fluid in kg/s\n",
    "c_p_cold = 4184  # Specific heat capacity of cold fluid in J/kg.K\n",
    "\n",
    "\n",
    "# def equations(p):\n",
    "#     T_out_hot, T_in_cold = p\n",
    "#     Q = (\n",
    "#         m_dot_cold * c_p_cold * (T_out_cold - T_in_cold)\n",
    "#     )  # Heat transfer from cold fluid\n",
    "#     delta_T1 = T_in_hot - T_out_cold\n",
    "#     delta_T2 = T_out_hot - T_in_cold\n",
    "#     delta_T_lm = (delta_T1 - delta_T2) / np.log(delta_T1 / delta_T2)\n",
    "#     Q_calculated = U * A * delta_T_lm\n",
    "#     return (Q - Q_calculated, T_in_hot - T_out_hot - (T_in_cold - T_out_cold))\n",
    "\n",
    "\n",
    "# # Initial guesses for T_out_hot and T_in_cold\n",
    "# initial_guesses = [120, 20]\n",
    "# solution = fsolve(equations, initial_guesses)\n",
    "# print(f\"T_out_hot: {solution[0]} °C, T_in_cold: {solution[1]} °C\")\n",
    "c0 = 4.1e-4\n",
    "T = 800\n",
    "d_hyd = 1e-3\n",
    "\n",
    "mat = materials.Flibe(T)\n",
    "\n",
    "flibe = Fluid(\n",
    "    T=T,\n",
    "    Solubility=mat.Solubility,\n",
    "    MS=True,\n",
    "    D=mat.D,\n",
    "    d_Hyd=d_hyd,\n",
    "    mu=mat.mu,\n",
    "    rho=mat.rho,\n",
    "    U0=1,\n",
    "    c0=c0,\n",
    "    k=1.1,\n",
    "    cp=mat.cp,\n",
    ")\n",
    "Steel = Membrane(T=T, D=1e-9, thick=1e-3, K_S=1e-3, k_d=1e6, k_r=1e6, k=300)\n",
    "PAV = Component(c_in=c0, eff=0.5, fluid=flibe, membrane=Steel)\n",
    "U = PAV.get_global_HX_coeff(0)\n",
    "\n",
    "\n",
    "\n",
    "\n",
    "n_pipes=900\n",
    "L = corr.get_length_HX(corr.get_deltaTML(150, 120, 20, 30), d_hyd, PAV.U, 1e6/n_pipes)\n",
    "print(L)\n"
   ]
  }
 ],
 "metadata": {
  "kernelspec": {
   "display_name": "Python 3",
   "language": "python",
   "name": "python3"
  },
  "language_info": {
   "codemirror_mode": {
    "name": "ipython",
    "version": 3
   },
   "file_extension": ".py",
   "mimetype": "text/x-python",
   "name": "python",
   "nbconvert_exporter": "python",
   "pygments_lexer": "ipython3",
   "version": "3.11.4"
  }
 },
 "nbformat": 4,
 "nbformat_minor": 2
}
